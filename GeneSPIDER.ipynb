{
 "cells": [
  {
   "cell_type": "markdown",
   "metadata": {},
   "source": [
    "# import structure and parse"
   ]
  },
  {
   "cell_type": "code",
   "execution_count": 150,
   "metadata": {
    "collapsed": true
   },
   "outputs": [],
   "source": [
    "import urllib.request, json, numpy as np, urllib.request, json#, urllib2\n",
    "with urllib.request.urlopen(\"https://bitbucket.org/sonnhammergrni/gs-datasets/raw/d2047430263f5ffe473525c74b4318f723c23b0e/N50/Tjarnberg-ID266081-D20151111-N50-E150-SNR10-IDY266081.json\") as url:\n",
    "    data = json.loads(url.read().decode())\n",
    "\n",
    "# data = json.load(open('Nordling-ID1446937-D20150825-N10-E15-SNR3291-IDY15968.json'))\n",
    "data=dict(data['obj_data'])\n",
    "with urllib.request.urlopen(\"https://bitbucket.org/sonnhammergrni/gs-networks/raw/0b3a66e67d776eadaa5d68667ad9c8fbac12ef85/random/N50/Tjarnberg-D20150910-random-N50-L162-ID266081.json\") as url:\n",
    "    network = json.loads(url.read().decode())\n",
    "# network = json.load(open('Nordling-D20100302-random-N10-L25-ID1446937.json'))\n",
    "network=dict(network['obj_data'])\n",
    "# with urllib.request.urlopen(\"https://bitbucket.org/sonnhammergrni/gs-datasets/src/b7e6e3dfda854fc6331099a77d2483e586a44cd8/N10/Nordling-ID1446937-D20150825-N10-E10-SNR936-IDY16058.json?at=master&fileviewer=file-view-default\") as url:\n",
    "#     data = json.loads(url.read().decode())\n",
    "#     print(data)\n",
    "\n",
    "Y = np.asmatrix(data['Y'])\n",
    "P = np.asmatrix(data['P'])\n",
    "F = np.asmatrix(data['F'])\n",
    "E = np.asmatrix(data['E'])\n",
    "genes = np.array(data['names'])\n",
    "YY=Y-E\n",
    "TA = np.asmatrix(network['A'])"
   ]
  },
  {
   "cell_type": "markdown",
   "metadata": {},
   "source": [
    "# nestboot framework"
   ]
  },
  {
   "cell_type": "code",
   "execution_count": 151,
   "metadata": {
    "collapsed": true,
    "scrolled": true
   },
   "outputs": [],
   "source": [
    "# LS=-(P+F)*np.linalg.pinv(Y) #+E\n",
    "# LS[LS<0.01]=0\n",
    "# \n",
    "from sklearn.metrics import confusion_matrix, matthews_corrcoef\n",
    "# y_true = np.array(TA.astype(bool).astype(int)).flatten()\n",
    "# LSy_pred = np.array(LS.astype(bool).astype(int)).flatten()\n",
    "# LSMCC=matthews_corrcoef(y_true, LSy_pred)\n",
    "# print(LSMCC)\n",
    "\n",
    "##NESTBOOT implementation\n",
    "def LSNB(Y,R=10,Q=10,z=np.logspace(0,-6,30),r=0):\n",
    "    Ge=Y.shape[0];Ex=Y.shape[1];\n",
    "    LS=np.ndarray(shape=(Ge,Ge,R,Q,))#,z.shape[0]))\n",
    "    sLS=np.ndarray(shape=(Ge,Ge,z.shape[0],R,Q))\n",
    "    if r==1:\n",
    "        B=np.random.choice(list(range(Ex)),size=Ex,replace=True)\n",
    "        Y=Y[:,B]\n",
    "    for r in range(1, R):\n",
    "        for q in range(1, Q):\n",
    "            B=np.random.choice(list(range(Ex)),size=Ex,replace=True)\n",
    "            B=Y[:,B]\n",
    "            while np.linalg.matrix_rank(B) < np.minimum(Ge,Ex): ##update to first\n",
    "                B=np.random.choice(list(range(Ex)),size=Ex,replace=True)\n",
    "                B=Y[:,B]\n",
    "            LS[:,:,r,q]=-(P+F)*np.linalg.pinv(B)\n",
    "            for i in range(z.shape[0]):\n",
    "                sLS[:,:,i,:,:]=np.greater(LS,z[i])#LS[LS<z[i]]=0\n",
    "            return np.array(sLS)\n",
    "\n",
    "# \n"
   ]
  },
  {
   "cell_type": "markdown",
   "metadata": {},
   "source": [
    "# nestboot analysis & sparsity"
   ]
  },
  {
   "cell_type": "code",
   "execution_count": 152,
   "metadata": {},
   "outputs": [
    {
     "name": "stderr",
     "output_type": "stream",
     "text": [
      "/home/radonn/anaconda3/lib/python3.6/site-packages/ipykernel_launcher.py:27: RuntimeWarning: invalid value encountered in greater\n"
     ]
    }
   ],
   "source": [
    "z=np.logspace(-6,0,30)\n",
    "R=5;Q=5;\n",
    "# for i in z.shape[1]:\n",
    "#     d[d<z[i]]=0\n",
    "Ge=Y.shape[0];Ex=Y.shape[1];\n",
    "d=LSNB(Y,R,Q,z)\n",
    "B=np.random.choice(list(range(Ex)),size=Ex,replace=True)\n",
    "sY=Y[:,B]\n",
    "s=LSNB(sY,R,Q,z,1)\n",
    "\n",
    "frac=np.sum(d.astype(bool),axis=4)\n",
    "sfrac=np.sum(s.astype(bool),axis=4)\n",
    "\n",
    "sign=np.sum(d>0,axis=4)\n",
    "ssign=np.sum(s>0,axis=4)"
   ]
  },
  {
   "cell_type": "code",
   "execution_count": 153,
   "metadata": {
    "collapsed": true
   },
   "outputs": [],
   "source": [
    "from functools import reduce\n",
    "def accumulated(frac,z):\n",
    "    freq=np.ndarray(shape=(frac.shape[0]*frac.shape[0],R,Q))\n",
    "    x=frac.shape[0];y=frac.shape[0];z=frac.shape[2]\n",
    "    F=np.vstack(frac)\n",
    "    F=np.vstack(F)\n",
    "    # Fint = F[:,1]&\n",
    "    A=F[:,0];O=F[:,0]\n",
    "    for i in range(1,R):\n",
    "        AA = A&F[:,i]\n",
    "        OO = O|F[:,i]\n",
    "        A=AA\n",
    "        O=OO\n",
    "\n",
    "\n",
    "    a=np.reshape(AA,(x,y,z))\n",
    "    o=np.reshape(OO,(x,y,z))\n",
    "    return [a,o]\n"
   ]
  },
  {
   "cell_type": "code",
   "execution_count": 160,
   "metadata": {},
   "outputs": [
    {
     "name": "stderr",
     "output_type": "stream",
     "text": [
      "/home/radonn/anaconda3/lib/python3.6/site-packages/ipykernel_launcher.py:11: RuntimeWarning: invalid value encountered in true_divide\n",
      "  # This is added back by InteractiveShellApp.init_path()\n",
      "/home/radonn/anaconda3/lib/python3.6/site-packages/ipykernel_launcher.py:14: RuntimeWarning: invalid value encountered in true_divide\n",
      "  \n"
     ]
    },
    {
     "data": {
      "text/plain": [
       "(50, 50, 30, 5)"
      ]
     },
     "execution_count": 160,
     "metadata": {},
     "output_type": "execute_result"
    }
   ],
   "source": [
    "# sup=accumulated(sign,ssign,z)\n",
    "# accumulated(frac,sfrac,z).shape\n",
    "# np.divide(list(range(R)),R)\n",
    "# R\n",
    "# np.histogram(sign,)\n",
    "# sup[1]\n",
    "# np.sum(frac,axis=3)\n",
    "# np.vstack(frac[:,:,r,q]).shape\n",
    "# sign[:,:,2,2]\n",
    "AA,OO=accumulated(frac,z)\n",
    "Lsupp=AA/OO\n",
    "\n",
    "AAA,OOO=accumulated(sign,z)\n",
    "Ssupp=AAA/OOO\n",
    "frac.shape"
   ]
  },
  {
   "cell_type": "code",
   "execution_count": 161,
   "metadata": {},
   "outputs": [
    {
     "ename": "IndentationError",
     "evalue": "expected an indented block (<ipython-input-161-b9e19ca3e1a1>, line 2)",
     "output_type": "error",
     "traceback": [
      "\u001b[0;36m  File \u001b[0;32m\"<ipython-input-161-b9e19ca3e1a1>\"\u001b[0;36m, line \u001b[0;32m2\u001b[0m\n\u001b[0;31m    freq[:,:,q]=np.histogram(frac[:,:,:,q],np.divide(list(range(1,R)),R)) ## this may work\u001b[0m\n\u001b[0m       ^\u001b[0m\n\u001b[0;31mIndentationError\u001b[0m\u001b[0;31m:\u001b[0m expected an indented block\n"
     ]
    }
   ],
   "source": [
    "for r in range(1,R):\n",
    "    for zz in range(1,z):\n",
    "        freq[:,:,zz]=np.histogram(frac[:,:,zz,R],np.divide(list(range(1,R)),R)) ## this may work"
   ]
  },
  {
   "cell_type": "markdown",
   "metadata": {},
   "source": [
    "# PLS, Lasso, elastic net, TLS implementations"
   ]
  },
  {
   "cell_type": "code",
   "execution_count": 4,
   "metadata": {
    "collapsed": true
   },
   "outputs": [],
   "source": [
    "from sklearn.cross_decomposition import PLSRegression\n",
    "pls2 = PLSRegression(n_components=2)\n",
    "pls2.fit_transform(YY,y=P)\n",
    "PLS=pls2.predict(YY)\n",
    "PLS[PLS<0.01]=0"
   ]
  },
  {
   "cell_type": "code",
   "execution_count": 5,
   "metadata": {
    "collapsed": true,
    "scrolled": true
   },
   "outputs": [],
   "source": [
    "from sklearn import linear_model\n",
    "clf = linear_model.Lasso(alpha=0.01)\n",
    "clf.fit(YY.T,P.T)\n",
    "# print(A1)\n",
    "L1=(clf.coef_)\n"
   ]
  },
  {
   "cell_type": "code",
   "execution_count": 6,
   "metadata": {
    "collapsed": true,
    "scrolled": true
   },
   "outputs": [],
   "source": [
    "from sklearn.linear_model import ElasticNet\n",
    "from sklearn.datasets import make_regression\n",
    "# def ridge(tY,P):\n",
    "regr = ElasticNet(l1_ratio=.01)\n",
    "regr.fit(YY.T, P.T)\n",
    "# regr.path(Y+E,P,l1_ratio=.5,alpha=0.5)\n",
    "# print(a[1])\n",
    "# return\n",
    "# print(regr.coef_)\n",
    "L0=(regr.coef_) \n",
    "# print(regr.intercept_) \n",
    "# print(regr.score(Y-E,P)) "
   ]
  },
  {
   "cell_type": "code",
   "execution_count": 7,
   "metadata": {
    "collapsed": true
   },
   "outputs": [],
   "source": [
    "# def tls(tY,P):\n",
    "Z= np.concatenate((np.asarray(YY.T),np.asarray(-P.T)),axis=1)\n",
    "U,s,V = np.linalg.svd(Z)\n",
    "VXY=V[0:len(Y),0+len(Y):len(Z.T)]\n",
    "VYY=V[0+len(Y):len(Z.T),0+len(Y):len(Z.T)]\n",
    "TLS= -(VXY/VYY)\n",
    "TLS[TLS<0.01]=0\n",
    "#     S[[0+len(Y):],[(0+len(Y)):]]=null\n",
    "#     hatC/=V*S*V\n",
    "#     hatP=hatC[:[0,0,len(Y)]]\n",
    "#     hatY=hatC[:[(0+len(Y)):]]\n",
    "#     return"
   ]
  },
  {
   "cell_type": "code",
   "execution_count": 8,
   "metadata": {
    "scrolled": false
   },
   "outputs": [
    {
     "name": "stdout",
     "output_type": "stream",
     "text": [
      "0.57735026919 0.866025403784 0.40618119723 -0.0230940107676\n"
     ]
    }
   ],
   "source": [
    "from sklearn.metrics import confusion_matrix, matthews_corrcoef\n",
    "y_true = np.array(TA.astype(bool).astype(int)).flatten()\n",
    "LSy_pred = np.array(LS.astype(bool).astype(int)).flatten()\n",
    "PLSy_pred = np.array(PLS.astype(bool).astype(int)).flatten()\n",
    "L1y_pred = np.array(L1.astype(bool).astype(int)).flatten()\n",
    "L0y_pred = np.array(L0.astype(bool).astype(int)).flatten()\n",
    "TLSy_pred = np.array(TLS.astype(bool).astype(int)).flatten()\n",
    "\n",
    "# cm=confusion_matrix(y_true, y_pred)\n",
    "# TP = cm[0][0]\n",
    "# FP = cm[0][1]\n",
    "# FN = cm[1][0]\n",
    "# TN = cm[1][1]\n",
    "\n",
    "LSMCC=matthews_corrcoef(y_true, LSy_pred)\n",
    "L1MCC=matthews_corrcoef(y_true, L1y_pred)\n",
    "L0MCC=matthews_corrcoef(y_true, L0y_pred)\n",
    "TLSMCC=matthews_corrcoef(y_true, TLSy_pred)\n",
    "# PLSMCC=matthews_corrcoef(y_true, PLSy_pred)\n",
    "\n",
    "print(LSMCC,L1MCC,L0MCC,TLSMCC)#,PLSMCC)"
   ]
  },
  {
   "cell_type": "code",
   "execution_count": 9,
   "metadata": {},
   "outputs": [
    {
     "data": {
      "text/plain": [
       "array([1, 0, 0, 0, 0, 0, 0, 1, 0, 0, 0, 1, 1, 0, 0, 0, 0, 0, 0, 0, 0, 0, 1,\n",
       "       0, 0, 0, 1, 1, 0, 0, 0, 0, 0, 1, 0, 0, 0, 0, 1, 1, 0, 0, 1, 0, 1, 0,\n",
       "       0, 0, 0, 0, 1, 0, 0, 0, 0, 1, 0, 0, 0, 0, 0, 0, 0, 0, 0, 1, 1, 0, 0,\n",
       "       0, 0, 1, 0, 1, 0, 0, 0, 1, 0, 1, 0, 0, 0, 0, 1, 0, 1, 0, 1, 0, 1, 0,\n",
       "       0, 0, 0, 0, 0, 0, 0, 1])"
      ]
     },
     "execution_count": 9,
     "metadata": {},
     "output_type": "execute_result"
    }
   ],
   "source": [
    "from cvxpy import *\n",
    "y_true"
   ]
  },
  {
   "cell_type": "code",
   "execution_count": 22,
   "metadata": {},
   "outputs": [
    {
     "ename": "NameError",
     "evalue": "name 'run_filter_query' is not defined",
     "output_type": "error",
     "traceback": [
      "\u001b[0;31m---------------------------------------------------------------------------\u001b[0m",
      "\u001b[0;31mNameError\u001b[0m                                 Traceback (most recent call last)",
      "\u001b[0;32m<ipython-input-22-96952ca7054f>\u001b[0m in \u001b[0;36m<module>\u001b[0;34m()\u001b[0m\n\u001b[1;32m      1\u001b[0m \u001b[0;32mimport\u001b[0m \u001b[0mcmapPy\u001b[0m\u001b[0;34m\u001b[0m\u001b[0m\n\u001b[0;32m----> 2\u001b[0;31m \u001b[0mrun_filter_query\u001b[0m\u001b[0;34m(\u001b[0m\u001b[0mresource_name\u001b[0m\u001b[0;34m,\u001b[0m \u001b[0mfilter_clause\u001b[0m\u001b[0;34m)\u001b[0m\u001b[0;34m\u001b[0m\u001b[0m\n\u001b[0m",
      "\u001b[0;31mNameError\u001b[0m: name 'run_filter_query' is not defined"
     ]
    }
   ],
   "source": [
    "#https://github.com/cmap/cmapPy/blob/master/tutorials/cmapPy_pandasGEXpress_tutorial.ipynb\n",
    "import cmapPy\n",
    "run_filter_query(resource_name, filter_clause)\n"
   ]
  },
  {
   "cell_type": "code",
   "execution_count": 17,
   "metadata": {},
   "outputs": [
    {
     "ename": "NameError",
     "evalue": "name 'grep' is not defined",
     "output_type": "error",
     "traceback": [
      "\u001b[0;31m---------------------------------------------------------------------------\u001b[0m",
      "\u001b[0;31mNameError\u001b[0m                                 Traceback (most recent call last)",
      "\u001b[0;32m<ipython-input-17-b89ac2736192>\u001b[0m in \u001b[0;36m<module>\u001b[0;34m()\u001b[0m\n\u001b[1;32m      4\u001b[0m \u001b[0;31m# os.chdir(’/home’)\u001b[0m\u001b[0;34m\u001b[0m\u001b[0;34m\u001b[0m\u001b[0m\n\u001b[1;32m      5\u001b[0m \u001b[0;31m# os.listdir(\".\")\u001b[0m\u001b[0;34m\u001b[0m\u001b[0;34m\u001b[0m\u001b[0m\n\u001b[0;32m----> 6\u001b[0;31m \u001b[0mgrep\u001b[0m\u001b[0;34m.\u001b[0m\u001b[0mgrep\u001b[0m\u001b[0;34m(\u001b[0m\u001b[0;34m\"*.py\"\u001b[0m\u001b[0;34m)\u001b[0m\u001b[0;34m\u001b[0m\u001b[0m\n\u001b[0m\u001b[1;32m      7\u001b[0m \u001b[0;31m# models/samples/core/get_started/premade_estimator\u001b[0m\u001b[0;34m\u001b[0m\u001b[0;34m\u001b[0m\u001b[0m\n",
      "\u001b[0;31mNameError\u001b[0m: name 'grep' is not defined"
     ]
    }
   ],
   "source": [
    "import os\n",
    "# import grep\n",
    "os.getcwd()\n",
    "# os.chdir(’/home’) \n",
    "# os.listdir(\".\")\n",
    "grep.grep(\"*.py\") \n",
    "# models/samples/core/get_started/premade_estimator"
   ]
  },
  {
   "cell_type": "code",
   "execution_count": null,
   "metadata": {
    "collapsed": true
   },
   "outputs": [],
   "source": []
  }
 ],
 "metadata": {
  "kernelspec": {
   "display_name": "Python 3",
   "language": "python",
   "name": "python3"
  },
  "language_info": {
   "codemirror_mode": {
    "name": "ipython",
    "version": 3
   },
   "file_extension": ".py",
   "mimetype": "text/x-python",
   "name": "python",
   "nbconvert_exporter": "python",
   "pygments_lexer": "ipython3",
   "version": "3.6.3"
  }
 },
 "nbformat": 4,
 "nbformat_minor": 2
}
